{
 "cells": [
  {
   "cell_type": "markdown",
   "metadata": {},
   "source": [
    "# Profitable App Profiles for the App Store and Google Play Markets\n",
    "\n",
    "This project attempts is a fake assignment for a developer. The assignment is to collect data on free apps in both the App Store and Google Play Store and analyze a profitable area to invest. The developer we work for only creates free apps, and the majority of revenue comes through in-app ads. Therefore, we are attempting to analyze what types of apps and what features of apps attract more users.\n",
    "- Google Play Store Data: [here](https://www.kaggle.com/lava18/google-play-store-apps)\n",
    "- Apple Play Store Data: [here](https://www.kaggle.com/ramamet4/app-store-apple-data-set-10k-apps)"
   ]
  },
  {
   "cell_type": "code",
   "execution_count": 8,
   "metadata": {},
   "outputs": [],
   "source": [
    "def explore_data(dataset, start, end, rows_and_columns=False):\n",
    "    dataset_slice = dataset[start:end]\n",
    "    for row in dataset_slice:\n",
    "        print(row)\n",
    "        print('\\n') # adds a new (empty) line after each row\n",
    "    \n",
    "    if rows_and_columns:\n",
    "        print('Number of rows:', len(dataset))\n",
    "        print('Number of columns:', len(dataset[0]))"
   ]
  },
  {
   "cell_type": "code",
   "execution_count": 9,
   "metadata": {},
   "outputs": [],
   "source": [
    "from csv import reader\n",
    "\n",
    "# Apple Store\n",
    "opened_file = open(r'C:\\Users\\WWCOLL\\DataQuest\\datasets\\guided project - app store\\AppleStore.csv', encoding='utf8')\n",
    "read_file = reader(opened_file)\n",
    "ios = list(read_file)\n",
    "ios_header = ios[0]\n",
    "ios = ios[1:]\n",
    "\n",
    "#Google Play Store\n",
    "opened_file = open(r'C:\\Users\\WWCOLL\\DataQuest\\datasets\\guided project - app store\\googleplaystore.csv', encoding='utf8')\n",
    "read_file = reader(opened_file)\n",
    "android = list(read_file)\n",
    "android_header = android[0]\n",
    "android = android [1:]"
   ]
  },
  {
   "cell_type": "code",
   "execution_count": 10,
   "metadata": {},
   "outputs": [
    {
     "name": "stdout",
     "output_type": "stream",
     "text": [
      "['', 'id', 'track_name', 'size_bytes', 'currency', 'price', 'rating_count_tot', 'rating_count_ver', 'user_rating', 'user_rating_ver', 'ver', 'cont_rating', 'prime_genre', 'sup_devices.num', 'ipadSc_urls.num', 'lang.num', 'vpp_lic']\n",
      "\n",
      "\n",
      "['1', '281656475', 'PAC-MAN Premium', '100788224', 'USD', '3.99', '21292', '26', '4', '4.5', '6.3.5', '4+', 'Games', '38', '5', '10', '1']\n",
      "\n",
      "\n",
      "['2', '281796108', 'Evernote - stay organized', '158578688', 'USD', '0', '161065', '26', '4', '3.5', '8.2.2', '4+', 'Productivity', '37', '5', '23', '1']\n",
      "\n",
      "\n",
      "['3', '281940292', 'WeatherBug - Local Weather, Radar, Maps, Alerts', '100524032', 'USD', '0', '188583', '2822', '3.5', '4.5', '5.0.0', '4+', 'Weather', '37', '5', '3', '1']\n",
      "\n",
      "\n",
      "['4', '282614216', 'eBay: Best App to Buy, Sell, Save! Online Shopping', '128512000', 'USD', '0', '262241', '649', '4', '4.5', '5.10.0', '12+', 'Shopping', '37', '5', '9', '1']\n",
      "\n",
      "\n",
      "['5', '282935706', 'Bible', '92774400', 'USD', '0', '985920', '5320', '4.5', '5', '7.5.1', '4+', 'Reference', '37', '5', '45', '1']\n",
      "\n",
      "\n",
      "Number of rows: 7197\n",
      "Number of columns: 17\n"
     ]
    }
   ],
   "source": [
    "print(ios_header)\n",
    "print('\\n')\n",
    "explore_data(ios, 0, 5, True)"
   ]
  },
  {
   "cell_type": "code",
   "execution_count": 11,
   "metadata": {},
   "outputs": [
    {
     "name": "stdout",
     "output_type": "stream",
     "text": [
      "['App', 'Category', 'Rating', 'Reviews', 'Size', 'Installs', 'Type', 'Price', 'Content Rating', 'Genres', 'Last Updated', 'Current Ver', 'Android Ver']\n",
      "\n",
      "\n",
      "['Photo Editor & Candy Camera & Grid & ScrapBook', 'ART_AND_DESIGN', '4.1', '159', '19M', '10,000+', 'Free', '0', 'Everyone', 'Art & Design', 'January 7, 2018', '1.0.0', '4.0.3 and up']\n",
      "\n",
      "\n",
      "['Coloring book moana', 'ART_AND_DESIGN', '3.9', '967', '14M', '500,000+', 'Free', '0', 'Everyone', 'Art & Design;Pretend Play', 'January 15, 2018', '2.0.0', '4.0.3 and up']\n",
      "\n",
      "\n",
      "['U Launcher Lite – FREE Live Cool Themes, Hide Apps', 'ART_AND_DESIGN', '4.7', '87510', '8.7M', '5,000,000+', 'Free', '0', 'Everyone', 'Art & Design', 'August 1, 2018', '1.2.4', '4.0.3 and up']\n",
      "\n",
      "\n",
      "['Sketch - Draw & Paint', 'ART_AND_DESIGN', '4.5', '215644', '25M', '50,000,000+', 'Free', '0', 'Teen', 'Art & Design', 'June 8, 2018', 'Varies with device', '4.2 and up']\n",
      "\n",
      "\n",
      "['Pixel Draw - Number Art Coloring Book', 'ART_AND_DESIGN', '4.3', '967', '2.8M', '100,000+', 'Free', '0', 'Everyone', 'Art & Design;Creativity', 'June 20, 2018', '1.1', '4.4 and up']\n",
      "\n",
      "\n",
      "Number of rows: 10841\n",
      "Number of columns: 13\n"
     ]
    }
   ],
   "source": [
    "print(android_header)\n",
    "print('\\n')\n",
    "explore_data(android, 0, 5, True)"
   ]
  },
  {
   "cell_type": "code",
   "execution_count": 12,
   "metadata": {},
   "outputs": [
    {
     "name": "stdout",
     "output_type": "stream",
     "text": [
      "['Life Made WI-Fi Touchscreen Photo Frame', '1.9', '19', '3.0M', '1,000+', 'Free', '0', 'Everyone', '', 'February 11, 2018', '1.0.19', '4.0 and up']\n"
     ]
    }
   ],
   "source": [
    "print(android[10472])\n",
    "del android[10472]"
   ]
  },
  {
   "cell_type": "code",
   "execution_count": 13,
   "metadata": {},
   "outputs": [
    {
     "name": "stdout",
     "output_type": "stream",
     "text": [
      "Number of duplicate apps: 1181\n",
      "\n",
      "\n",
      "Examples of duplicate apps: ['Quick PDF Scanner + OCR FREE', 'Box', 'Google My Business', 'ZOOM Cloud Meetings', 'join.me - Simple Meetings']\n"
     ]
    }
   ],
   "source": [
    "unique_app = []\n",
    "duplicate_app = []\n",
    "\n",
    "for row in android:\n",
    "    if row[0] in unique_app:\n",
    "        duplicate_app.append(rbow[0])\n",
    "    else:\n",
    "        unique_app.append(row[0])\n",
    "        \n",
    "print('Number of duplicate apps:', len(duplicate_app))\n",
    "print('\\n')\n",
    "print('Examples of duplicate apps:', duplicate_app[:5])"
   ]
  },
  {
   "cell_type": "markdown",
   "metadata": {},
   "source": [
    "#### As seen above, the Google Play Store has duplicate data."
   ]
  },
  {
   "cell_type": "code",
   "execution_count": 14,
   "metadata": {
    "scrolled": true
   },
   "outputs": [
    {
     "name": "stdout",
     "output_type": "stream",
     "text": [
      "['App', 'Category', 'Rating', 'Reviews', 'Size', 'Installs', 'Type', 'Price', 'Content Rating', 'Genres', 'Last Updated', 'Current Ver', 'Android Ver']\n",
      "['Instagram', 'SOCIAL', '4.5', '66577313', 'Varies with device', '1,000,000,000+', 'Free', '0', 'Teen', 'Social', 'July 31, 2018', 'Varies with device', 'Varies with device']\n",
      "['Instagram', 'SOCIAL', '4.5', '66577446', 'Varies with device', '1,000,000,000+', 'Free', '0', 'Teen', 'Social', 'July 31, 2018', 'Varies with device', 'Varies with device']\n",
      "['Instagram', 'SOCIAL', '4.5', '66577313', 'Varies with device', '1,000,000,000+', 'Free', '0', 'Teen', 'Social', 'July 31, 2018', 'Varies with device', 'Varies with device']\n",
      "['Instagram', 'SOCIAL', '4.5', '66509917', 'Varies with device', '1,000,000,000+', 'Free', '0', 'Teen', 'Social', 'July 31, 2018', 'Varies with device', 'Varies with device']\n"
     ]
    }
   ],
   "source": [
    "print(android_header)\n",
    "for row in android:\n",
    "    if 'Instagram' == row[0]:\n",
    "        print(row)"
   ]
  },
  {
   "cell_type": "markdown",
   "metadata": {},
   "source": [
    "#### This shows that the duplicates are due to a changing number of Reviews."
   ]
  },
  {
   "cell_type": "markdown",
   "metadata": {},
   "source": [
    "#### We don't want to remove the duplicates randomly because the higher the number of reviews, the more recent the data is. Therefore, we want to keep the row with the highest number of reviews and delete the other rows."
   ]
  },
  {
   "cell_type": "code",
   "execution_count": 15,
   "metadata": {},
   "outputs": [
    {
     "data": {
      "text/plain": [
       "9659"
      ]
     },
     "execution_count": 15,
     "metadata": {},
     "output_type": "execute_result"
    }
   ],
   "source": [
    "reviews_max = {}\n",
    "\n",
    "for row in android:\n",
    "    name = row[0]\n",
    "    n_reviews = float(row[3])\n",
    "    \n",
    "    if (name in reviews_max) and (reviews_max[name] < n_reviews):\n",
    "        reviews_max[name] = n_reviews\n",
    "    elif name not in reviews_max:\n",
    "        reviews_max[name] = n_reviews\n",
    "len(reviews_max)"
   ]
  },
  {
   "cell_type": "code",
   "execution_count": 16,
   "metadata": {},
   "outputs": [
    {
     "name": "stdout",
     "output_type": "stream",
     "text": [
      "Expected length: 9659\n",
      "Actual length: 9659\n"
     ]
    }
   ],
   "source": [
    "print('Expected length:', len(android) - len(duplicate_app))\n",
    "print('Actual length:', len(reviews_max))"
   ]
  },
  {
   "cell_type": "code",
   "execution_count": 17,
   "metadata": {},
   "outputs": [
    {
     "name": "stdout",
     "output_type": "stream",
     "text": [
      "['Photo Editor & Candy Camera & Grid & ScrapBook', 'ART_AND_DESIGN', '4.1', '159', '19M', '10,000+', 'Free', '0', 'Everyone', 'Art & Design', 'January 7, 2018', '1.0.0', '4.0.3 and up']\n",
      "\n",
      "\n",
      "['U Launcher Lite – FREE Live Cool Themes, Hide Apps', 'ART_AND_DESIGN', '4.7', '87510', '8.7M', '5,000,000+', 'Free', '0', 'Everyone', 'Art & Design', 'August 1, 2018', '1.2.4', '4.0.3 and up']\n",
      "\n",
      "\n",
      "['Sketch - Draw & Paint', 'ART_AND_DESIGN', '4.5', '215644', '25M', '50,000,000+', 'Free', '0', 'Teen', 'Art & Design', 'June 8, 2018', 'Varies with device', '4.2 and up']\n",
      "\n",
      "\n",
      "['Pixel Draw - Number Art Coloring Book', 'ART_AND_DESIGN', '4.3', '967', '2.8M', '100,000+', 'Free', '0', 'Everyone', 'Art & Design;Creativity', 'June 20, 2018', '1.1', '4.4 and up']\n",
      "\n",
      "\n",
      "['Paper flowers instructions', 'ART_AND_DESIGN', '4.4', '167', '5.6M', '50,000+', 'Free', '0', 'Everyone', 'Art & Design', 'March 26, 2017', '1.0', '2.3 and up']\n",
      "\n",
      "\n",
      "Number of rows: 9659\n",
      "Number of columns: 13\n"
     ]
    }
   ],
   "source": [
    "android_clean = []\n",
    "already_added = []\n",
    "\n",
    "for row in android:\n",
    "    name = row[0]\n",
    "    n_reviews = float(row[3])\n",
    "    \n",
    "    if (reviews_max[name] == n_reviews) and (name not in already_added):\n",
    "        android_clean.append(row)\n",
    "        already_added.append(name)\n",
    "        \n",
    "explore_data(android_clean, 0, 5, True)"
   ]
  },
  {
   "cell_type": "code",
   "execution_count": 18,
   "metadata": {},
   "outputs": [
    {
     "name": "stdout",
     "output_type": "stream",
     "text": [
      "True\n",
      "False\n",
      "False\n",
      "8482\n",
      "False\n",
      "128540\n"
     ]
    }
   ],
   "source": [
    "def is_it_English(string):\n",
    "    \n",
    "    for character in string:\n",
    "        if ord(character) > 127:\n",
    "            return False\n",
    "        \n",
    "    return True\n",
    "        \n",
    "print(is_it_English('Instagram'))\n",
    "print(is_it_English('爱奇艺PPS -《欢乐颂2》电视剧热播'))\n",
    "print(is_it_English('Docs To Go™ Free Office Suite')) #these should not be True\n",
    "print(ord('™'))\n",
    "print(is_it_English('Instachat 😜'))\n",
    "print(ord('😜'))"
   ]
  },
  {
   "cell_type": "markdown",
   "metadata": {},
   "source": [
    "#### This was a way to remove any Non-English apps by iterating through the app's name and removing those apps with a name containing a character number above 127."
   ]
  },
  {
   "cell_type": "code",
   "execution_count": 19,
   "metadata": {},
   "outputs": [
    {
     "name": "stdout",
     "output_type": "stream",
     "text": [
      "['Photo Editor & Candy Camera & Grid & ScrapBook', 'ART_AND_DESIGN', '4.1', '159', '19M', '10,000+', 'Free', '0', 'Everyone', 'Art & Design', 'January 7, 2018', '1.0.0', '4.0.3 and up']\n",
      "\n",
      "\n",
      "['Sketch - Draw & Paint', 'ART_AND_DESIGN', '4.5', '215644', '25M', '50,000,000+', 'Free', '0', 'Teen', 'Art & Design', 'June 8, 2018', 'Varies with device', '4.2 and up']\n",
      "\n",
      "\n",
      "['Pixel Draw - Number Art Coloring Book', 'ART_AND_DESIGN', '4.3', '967', '2.8M', '100,000+', 'Free', '0', 'Everyone', 'Art & Design;Creativity', 'June 20, 2018', '1.1', '4.4 and up']\n",
      "\n",
      "\n",
      "Number of rows: 9117\n",
      "Number of columns: 13\n",
      "\n",
      "\n",
      "['1', '281656475', 'PAC-MAN Premium', '100788224', 'USD', '3.99', '21292', '26', '4', '4.5', '6.3.5', '4+', 'Games', '38', '5', '10', '1']\n",
      "\n",
      "\n",
      "['2', '281796108', 'Evernote - stay organized', '158578688', 'USD', '0', '161065', '26', '4', '3.5', '8.2.2', '4+', 'Productivity', '37', '5', '23', '1']\n",
      "\n",
      "\n",
      "['3', '281940292', 'WeatherBug - Local Weather, Radar, Maps, Alerts', '100524032', 'USD', '0', '188583', '2822', '3.5', '4.5', '5.0.0', '4+', 'Weather', '37', '5', '3', '1']\n",
      "\n",
      "\n",
      "Number of rows: 7197\n",
      "Number of columns: 17\n"
     ]
    }
   ],
   "source": [
    "english_android = []\n",
    "english_ios = []\n",
    "\n",
    "for row in android_clean:\n",
    "    if is_it_English(row[0]) == True:\n",
    "        english_android.append(row)\n",
    "        \n",
    "for row in ios:\n",
    "    if is_it_English(row[0]) == True:\n",
    "        english_ios.append(row)\n",
    "        \n",
    "explore_data(english_android, 0, 3, True)\n",
    "print('\\n')\n",
    "explore_data(english_ios, 0, 3, True)"
   ]
  },
  {
   "cell_type": "code",
   "execution_count": 1,
   "metadata": {},
   "outputs": [
    {
     "ename": "NameError",
     "evalue": "name 'english_android' is not defined",
     "output_type": "error",
     "traceback": [
      "\u001b[0;31m---------------------------------------------------------------------------\u001b[0m",
      "\u001b[0;31mNameError\u001b[0m                                 Traceback (most recent call last)",
      "\u001b[0;32m<ipython-input-1-43390ed6179e>\u001b[0m in \u001b[0;36m<module>\u001b[0;34m\u001b[0m\n\u001b[1;32m      2\u001b[0m \u001b[0mfinal_ios\u001b[0m \u001b[0;34m=\u001b[0m \u001b[0;34m[\u001b[0m\u001b[0;34m]\u001b[0m\u001b[0;34m\u001b[0m\u001b[0;34m\u001b[0m\u001b[0m\n\u001b[1;32m      3\u001b[0m \u001b[0;34m\u001b[0m\u001b[0m\n\u001b[0;32m----> 4\u001b[0;31m \u001b[0;32mfor\u001b[0m \u001b[0mrow\u001b[0m \u001b[0;32min\u001b[0m \u001b[0menglish_android\u001b[0m\u001b[0;34m:\u001b[0m\u001b[0;34m\u001b[0m\u001b[0;34m\u001b[0m\u001b[0m\n\u001b[0m\u001b[1;32m      5\u001b[0m     \u001b[0mprice\u001b[0m \u001b[0;34m=\u001b[0m \u001b[0mrow\u001b[0m\u001b[0;34m[\u001b[0m\u001b[0;36m7\u001b[0m\u001b[0;34m]\u001b[0m\u001b[0;34m\u001b[0m\u001b[0;34m\u001b[0m\u001b[0m\n\u001b[1;32m      6\u001b[0m     \u001b[0;32mif\u001b[0m \u001b[0mprice\u001b[0m \u001b[0;34m==\u001b[0m \u001b[0;34m'0'\u001b[0m\u001b[0;34m:\u001b[0m\u001b[0;34m\u001b[0m\u001b[0;34m\u001b[0m\u001b[0m\n",
      "\u001b[0;31mNameError\u001b[0m: name 'english_android' is not defined"
     ]
    }
   ],
   "source": [
    "final_android = []\n",
    "final_ios = []\n",
    "\n",
    "for row in english_android:\n",
    "    price = row[7]\n",
    "    if price == '0':\n",
    "        final_android.append(row)\n",
    "print('Number of rows:', len(final_android))\n",
    "\n",
    "for row in english_ios:\n",
    "    price = row[5]\n",
    "    if price == '0':\n",
    "        final_ios.append(row)\n",
    "print('Number of rows:', len(final_ios))"
   ]
  },
  {
   "cell_type": "markdown",
   "metadata": {},
   "source": [
    "#### Isolating free apps above."
   ]
  },
  {
   "cell_type": "markdown",
   "metadata": {},
   "source": [
    "### Validating an app idea\n",
    "Our end goal was to have our app available on both the Google Play Store and the App Store, so we needed to figure out what app profiles were succeseful in both markets. First we looked at popular genres.\n",
    "- Note: there is no install column for ios, so we chose to go by number of reviews and rating score (some sort of rating grade based on number and amount)"
   ]
  },
  {
   "cell_type": "code",
   "execution_count": 21,
   "metadata": {},
   "outputs": [
    {
     "name": "stdout",
     "output_type": "stream",
     "text": [
      "['App', 'Category', 'Rating', 'Reviews', 'Size', 'Installs', 'Type', 'Price', 'Content Rating', 'Genres', 'Last Updated', 'Current Ver', 'Android Ver']\n",
      "['Sketch - Draw & Paint', 'ART_AND_DESIGN', '4.5', '215644', '25M', '50,000,000+', 'Free', '0', 'Teen', 'Art & Design', 'June 8, 2018', 'Varies with device', '4.2 and up']\n",
      "\n",
      "\n",
      "['', 'id', 'track_name', 'size_bytes', 'currency', 'price', 'rating_count_tot', 'rating_count_ver', 'user_rating', 'user_rating_ver', 'ver', 'cont_rating', 'prime_genre', 'sup_devices.num', 'ipadSc_urls.num', 'lang.num', 'vpp_lic']\n",
      "['3', '281940292', 'WeatherBug - Local Weather, Radar, Maps, Alerts', '100524032', 'USD', '0', '188583', '2822', '3.5', '4.5', '5.0.0', '4+', 'Weather', '37', '5', '3', '1']\n"
     ]
    }
   ],
   "source": [
    "print(android_header) #0,9,5\n",
    "print(final_android[1])\n",
    "print('\\n')\n",
    "print(ios_header) #2,-5,\n",
    "print(final_ios[1])"
   ]
  },
  {
   "cell_type": "code",
   "execution_count": 22,
   "metadata": {},
   "outputs": [],
   "source": [
    "def freq_table(dataset, index):\n",
    "    dataset_ft = {}\n",
    "    total = 0\n",
    "    \n",
    "    for row in dataset:\n",
    "        total += 1\n",
    "        value = row[index]\n",
    "        if value in dataset_ft:\n",
    "            dataset_ft[value] += 1\n",
    "        else:\n",
    "            dataset_ft[value] = 1\n",
    "    \n",
    "    dataset_percent = {}\n",
    "    for key in dataset_ft:\n",
    "        dataset_percent[key] = (dataset_ft[key]/total) * 100\n",
    "        \n",
    "    return dataset_percent\n",
    "        \n",
    "def display_table(dataset, index):\n",
    "    table = freq_table(dataset, index)\n",
    "    table_display = []\n",
    "    for key in table:\n",
    "        key_val_as_tuple = (table[key], key)\n",
    "        table_display.append(key_val_as_tuple)\n",
    "\n",
    "    table_sorted = sorted(table_display, reverse = True)\n",
    "    for entry in table_sorted:\n",
    "        print(entry[1], ':', entry[0])"
   ]
  },
  {
   "cell_type": "markdown",
   "metadata": {},
   "source": [
    "#### One function creates a frequency table that shows percentages (freq_table). The next function displays those percentages in descending order (display_table)."
   ]
  },
  {
   "cell_type": "code",
   "execution_count": 23,
   "metadata": {},
   "outputs": [
    {
     "name": "stdout",
     "output_type": "stream",
     "text": [
      "Games : 55.64595660749507\n",
      "Entertainment : 8.234714003944774\n",
      "Photo & Video : 4.117357001972387\n",
      "Social Networking : 3.5256410256410255\n",
      "Education : 3.2544378698224854\n",
      "Shopping : 2.983234714003945\n",
      "Utilities : 2.687376725838264\n",
      "Lifestyle : 2.3175542406311638\n",
      "Finance : 2.0710059171597637\n",
      "Sports : 1.947731755424063\n",
      "Health & Fitness : 1.8737672583826428\n",
      "Music : 1.6518737672583828\n",
      "Book : 1.6272189349112427\n",
      "Productivity : 1.5285996055226825\n",
      "News : 1.4299802761341223\n",
      "Travel : 1.3806706114398422\n",
      "Food & Drink : 1.0601577909270217\n",
      "Weather : 0.7642998027613412\n",
      "Reference : 0.4930966469428008\n",
      "Navigation : 0.4930966469428008\n",
      "Business : 0.4930966469428008\n",
      "Catalogs : 0.22189349112426035\n",
      "Medical : 0.19723865877712032\n"
     ]
    }
   ],
   "source": [
    "display_table(final_ios, -5)"
   ]
  },
  {
   "cell_type": "markdown",
   "metadata": {},
   "source": [
    "#### Most apps are under 'Games', then under 'Entertainment'. Both of these categories are mostly for fun and not really work related. This just shows the sheer number of apps, however, which could just mean that games are the easiest and cheapest to make."
   ]
  },
  {
   "cell_type": "code",
   "execution_count": 24,
   "metadata": {},
   "outputs": [
    {
     "name": "stdout",
     "output_type": "stream",
     "text": [
      "FAMILY : 18.803520456707897\n",
      "GAME : 9.60989533777355\n",
      "TOOLS : 8.575166508087536\n",
      "BUSINESS : 4.709800190294957\n",
      "PRODUCTIVITY : 3.9724072312083734\n",
      "LIFESTYLE : 3.8891531874405327\n",
      "FINANCE : 3.73453853472883\n",
      "MEDICAL : 3.6393910561370126\n",
      "PERSONALIZATION : 3.306374881065652\n",
      "SPORTS : 3.258801141769743\n",
      "COMMUNICATION : 3.2231208372978117\n",
      "HEALTH_AND_FITNESS : 3.1279733587059946\n",
      "PHOTOGRAPHY : 3.0090390104662226\n",
      "NEWS_AND_MAGAZINES : 2.7949571836346334\n",
      "SOCIAL : 2.664129400570885\n",
      "TRAVEL_AND_LOCAL : 2.3073263558515698\n",
      "SHOPPING : 2.247859181731684\n",
      "BOOKS_AND_REFERENCE : 2.1883920076117986\n",
      "DATING : 1.8315889628924835\n",
      "VIDEO_PLAYERS : 1.7602283539486203\n",
      "MAPS_AND_NAVIGATION : 1.3558515699333968\n",
      "FOOD_AND_DRINK : 1.2012369172216937\n",
      "EDUCATION : 1.165556612749762\n",
      "ENTERTAINMENT : 0.939581351094196\n",
      "AUTO_AND_VEHICLES : 0.939581351094196\n",
      "LIBRARIES_AND_DEMO : 0.9039010466222646\n",
      "HOUSE_AND_HOME : 0.8087535680304472\n",
      "WEATHER : 0.7968601332064701\n",
      "EVENTS : 0.7136060894386299\n",
      "ART_AND_DESIGN : 0.6660323501427212\n",
      "PARENTING : 0.6541389153187441\n",
      "BEAUTY : 0.6303520456707897\n",
      "COMICS : 0.570884871550904\n"
     ]
    }
   ],
   "source": [
    "display_table(final_android,1)"
   ]
  },
  {
   "cell_type": "markdown",
   "metadata": {},
   "source": [
    "#### 'Games' is still a common category, but not nearly as dominant as it was in the App Store. The 'Family' category leads by a large margin, and the majority of apps seem to be geared toward productivity. We did notice that 'Family' is mostly games for kids so the percent of games could be considered about 30%."
   ]
  },
  {
   "cell_type": "code",
   "execution_count": 25,
   "metadata": {},
   "outputs": [
    {
     "name": "stdout",
     "output_type": "stream",
     "text": [
      "Tools : 8.563273073263558\n",
      "Entertainment : 6.089438629876309\n",
      "Education : 5.387725975261656\n",
      "Business : 4.709800190294957\n",
      "Productivity : 3.9724072312083734\n",
      "Lifestyle : 3.8772597526165553\n",
      "Finance : 3.73453853472883\n",
      "Medical : 3.6393910561370126\n",
      "Sports : 3.3301617507136063\n",
      "Personalization : 3.306374881065652\n",
      "Communication : 3.2231208372978117\n",
      "Health & Fitness : 3.1279733587059946\n",
      "Action : 3.116079923882017\n",
      "Photography : 3.0090390104662226\n",
      "News & Magazines : 2.7949571836346334\n",
      "Social : 2.664129400570885\n",
      "Travel & Local : 2.3073263558515698\n",
      "Shopping : 2.247859181731684\n",
      "Books & Reference : 2.1883920076117986\n",
      "Simulation : 2.0813510941960036\n",
      "Dating : 1.8315889628924835\n",
      "Arcade : 1.8315889628924835\n",
      "Casual : 1.7721217887725977\n",
      "Video Players & Editors : 1.736441484300666\n",
      "Maps & Navigation : 1.3558515699333968\n",
      "Food & Drink : 1.2012369172216937\n",
      "Puzzle : 1.1298763082778307\n",
      "Racing : 1.0228353948620361\n",
      "Role Playing : 0.939581351094196\n",
      "Auto & Vehicles : 0.939581351094196\n",
      "Strategy : 0.9039010466222646\n",
      "Libraries & Demo : 0.9039010466222646\n",
      "House & Home : 0.8087535680304472\n",
      "Weather : 0.7968601332064701\n",
      "Events : 0.7136060894386299\n",
      "Adventure : 0.6541389153187441\n",
      "Beauty : 0.6303520456707897\n",
      "Art & Design : 0.6184586108468125\n",
      "Comics : 0.5589914367269267\n",
      "Parenting : 0.49952426260704097\n",
      "Trivia : 0.4162702188392008\n",
      "Educational;Education : 0.4162702188392008\n",
      "Card : 0.4043767840152236\n",
      "Educational : 0.3805899143672693\n",
      "Casino : 0.3805899143672693\n",
      "Board : 0.3686964795432921\n",
      "Education;Education : 0.34490960989533775\n",
      "Word : 0.24976213130352048\n",
      "Music : 0.2021883920076118\n",
      "Casual;Pretend Play : 0.19029495718363465\n",
      "Puzzle;Brain Games : 0.17840152235965748\n",
      "Racing;Action & Adventure : 0.142721217887726\n",
      "Casual;Brain Games : 0.142721217887726\n",
      "Entertainment;Music & Video : 0.13082778306374881\n",
      "Casual;Action & Adventure : 0.13082778306374881\n",
      "Arcade;Action & Adventure : 0.10704091341579447\n",
      "Simulation;Action & Adventure : 0.08325404376784015\n",
      "Parenting;Education : 0.08325404376784015\n",
      "Educational;Pretend Play : 0.08325404376784015\n",
      "Action;Action & Adventure : 0.08325404376784015\n",
      "Entertainment;Brain Games : 0.071360608943863\n",
      "Art & Design;Creativity : 0.071360608943863\n",
      "Parenting;Music & Video : 0.05946717411988582\n",
      "Education;Pretend Play : 0.05946717411988582\n",
      "Board;Brain Games : 0.05946717411988582\n",
      "Role Playing;Pretend Play : 0.04757373929590866\n",
      "Educational;Brain Games : 0.04757373929590866\n",
      "Education;Creativity : 0.04757373929590866\n",
      "Casual;Creativity : 0.04757373929590866\n",
      "Role Playing;Action & Adventure : 0.0356803044719315\n",
      "Puzzle;Action & Adventure : 0.0356803044719315\n",
      "Educational;Creativity : 0.0356803044719315\n",
      "Education;Music & Video : 0.0356803044719315\n",
      "Education;Action & Adventure : 0.0356803044719315\n",
      "Adventure;Action & Adventure : 0.0356803044719315\n",
      "Video Players & Editors;Music & Video : 0.02378686964795433\n",
      "Sports;Action & Adventure : 0.02378686964795433\n",
      "Simulation;Pretend Play : 0.02378686964795433\n",
      "Puzzle;Creativity : 0.02378686964795433\n",
      "Music;Music & Video : 0.02378686964795433\n",
      "Entertainment;Pretend Play : 0.02378686964795433\n",
      "Entertainment;Creativity : 0.02378686964795433\n",
      "Entertainment;Action & Adventure : 0.02378686964795433\n",
      "Educational;Action & Adventure : 0.02378686964795433\n",
      "Education;Brain Games : 0.02378686964795433\n",
      "Casual;Education : 0.02378686964795433\n",
      "Board;Action & Adventure : 0.02378686964795433\n",
      "Video Players & Editors;Creativity : 0.011893434823977166\n",
      "Trivia;Education : 0.011893434823977166\n",
      "Tools;Education : 0.011893434823977166\n",
      "Strategy;Education : 0.011893434823977166\n",
      "Strategy;Creativity : 0.011893434823977166\n",
      "Simulation;Education : 0.011893434823977166\n",
      "Role Playing;Brain Games : 0.011893434823977166\n",
      "Racing;Pretend Play : 0.011893434823977166\n",
      "Puzzle;Education : 0.011893434823977166\n",
      "Parenting;Brain Games : 0.011893434823977166\n",
      "Music & Audio;Music & Video : 0.011893434823977166\n",
      "Lifestyle;Pretend Play : 0.011893434823977166\n",
      "Health & Fitness;Education : 0.011893434823977166\n",
      "Health & Fitness;Action & Adventure : 0.011893434823977166\n",
      "Entertainment;Education : 0.011893434823977166\n",
      "Comics;Creativity : 0.011893434823977166\n",
      "Card;Action & Adventure : 0.011893434823977166\n",
      "Books & Reference;Education : 0.011893434823977166\n",
      "Art & Design;Pretend Play : 0.011893434823977166\n",
      "Art & Design;Action & Adventure : 0.011893434823977166\n",
      "Adventure;Education : 0.011893434823977166\n"
     ]
    }
   ],
   "source": [
    "display_table(final_android,-4)"
   ]
  },
  {
   "cell_type": "markdown",
   "metadata": {},
   "source": [
    "#### This shows the difference between the Genre and Category columns. Genre is more granular with a lot more specificity. Because of this we will focus on the category data.\n",
    "\n",
    "#### Now lets look at which apps get the most users."
   ]
  },
  {
   "cell_type": "code",
   "execution_count": 26,
   "metadata": {},
   "outputs": [
    {
     "name": "stdout",
     "output_type": "stream",
     "text": [
      "Productivity : 19053.887096774193\n",
      "Weather : 47220.93548387097\n",
      "Shopping : 18746.677685950413\n",
      "Reference : 67447.9\n",
      "Finance : 13522.261904761905\n",
      "Music : 56482.02985074627\n",
      "Utilities : 14010.100917431193\n",
      "Travel : 20216.01785714286\n",
      "Social Networking : 53078.195804195806\n",
      "Sports : 20128.974683544304\n",
      "Health & Fitness : 19952.315789473683\n",
      "Games : 18924.68896765618\n",
      "Food & Drink : 20179.093023255813\n",
      "News : 15892.724137931034\n",
      "Book : 8498.333333333334\n",
      "Photo & Video : 27249.892215568863\n",
      "Entertainment : 10822.961077844311\n",
      "Business : 6367.8\n",
      "Lifestyle : 8978.308510638299\n",
      "Education : 6266.333333333333\n",
      "Navigation : 25972.05\n",
      "Medical : 459.75\n",
      "Catalogs : 1779.5555555555557\n"
     ]
    }
   ],
   "source": [
    "loop_ft_ios = freq_table(final_ios,-5)\n",
    "\n",
    "for genre in loop_ft_ios:\n",
    "    total = 0\n",
    "    len_genre = 0\n",
    "    for row in final_ios:\n",
    "        genre_app = row[-5]\n",
    "        if genre_app == genre:\n",
    "            user_rate = float(row[6])\n",
    "            total += user_rate\n",
    "            len_genre += 1\n",
    "    avg_genre = total / len_genre\n",
    "    print(genre, ':', avg_genre)"
   ]
  },
  {
   "cell_type": "markdown",
   "metadata": {},
   "source": [
    "#### On average reference has the most reviews per app."
   ]
  },
  {
   "cell_type": "code",
   "execution_count": 27,
   "metadata": {},
   "outputs": [
    {
     "name": "stdout",
     "output_type": "stream",
     "text": [
      "Bible : 985920\n",
      "Dictionary.com Dictionary & Thesaurus : 200047\n",
      "Dictionary.com Dictionary & Thesaurus for iPad : 54175\n",
      "Muslim Pro: Ramadan 2017 Prayer Times, Azan, Quran : 18418\n",
      "Merriam-Webster Dictionary : 16849\n",
      "Google Translate : 26786\n",
      "Night Sky : 12122\n",
      "WWDC : 762\n",
      "Jishokun-Japanese English Dictionary & Translator : 0\n",
      "教えて!goo : 0\n",
      "VPN Express : 14\n",
      "彩库宝典-【官方版】 : 0\n",
      "New Furniture Mods - Pocket Wiki & Game Tools for Minecraft PC Edition : 17588\n",
      "LUCKY BLOCK MOD ™ for Minecraft PC Edition - The Best Pocket Wiki & Mods Installer Tools : 4693\n",
      "Guides for Pokémon GO - Pokemon GO News and Cheats : 826\n",
      "Horror Maps for Minecraft PE - Download The Scariest Maps for Minecraft Pocket Edition (MCPE) Free : 718\n",
      "City Maps for Minecraft PE - The Best Maps for Minecraft Pocket Edition (MCPE) : 8535\n",
      "GUNS MODS for Minecraft PC Edition - Mods Tools : 1497\n",
      "Real Bike Traffic Rider Virtual Reality Glasses : 8\n",
      "無料で音楽や写真・カメラの裏技アプリ for iPhone7 : 0\n"
     ]
    }
   ],
   "source": [
    "for row in final_ios:\n",
    "    if row[-5] == 'Reference':\n",
    "        print(row[2], ':', row[6])"
   ]
  },
  {
   "cell_type": "markdown",
   "metadata": {},
   "source": [
    "#### This data is skewed heavily by the Bible and Dictionary. It might be profitable to make a popular book into an app."
   ]
  },
  {
   "cell_type": "code",
   "execution_count": 28,
   "metadata": {},
   "outputs": [
    {
     "name": "stdout",
     "output_type": "stream",
     "text": [
      "1,000,000+ : 15.592293054234062\n",
      "100,000+ : 11.596098953377735\n",
      "10,000+ : 10.442435775451951\n",
      "10,000,000+ : 10.323501427212179\n",
      "1,000+ : 8.480019029495718\n",
      "100+ : 7.088487155090391\n",
      "5,000,000+ : 6.660323501427213\n",
      "500,000+ : 5.5542340627973354\n",
      "50,000+ : 4.7216936251189345\n",
      "5,000+ : 4.5313986679353\n",
      "10+ : 3.5442435775451955\n",
      "500+ : 3.246907706945766\n",
      "50,000,000+ : 2.2121788772597526\n",
      "100,000,000+ : 2.1289248334919124\n",
      "50+ : 1.9743101807802093\n",
      "5+ : 0.8206470028544244\n",
      "1+ : 0.5114176974310181\n",
      "500,000,000+ : 0.285442435775452\n",
      "1,000,000,000+ : 0.22597526165556614\n",
      "0+ : 0.04757373929590866\n",
      "0 : 0.011893434823977166\n"
     ]
    }
   ],
   "source": [
    "display_table(final_android,5)"
   ]
  },
  {
   "cell_type": "markdown",
   "metadata": {},
   "source": [
    "#### Number of installs is not specific, but that is fine because the data we are looking for is not specific. We are just trying to find the most popular genres.\n",
    "-Note: Assumed that 1,000,000+ is 1,000,000 and 100,00+ is 100,000"
   ]
  },
  {
   "cell_type": "code",
   "execution_count": 29,
   "metadata": {},
   "outputs": [
    {
     "name": "stdout",
     "output_type": "stream",
     "text": [
      "ART_AND_DESIGN : 1932519.642857143\n",
      "AUTO_AND_VEHICLES : 645317.2278481013\n",
      "BEAUTY : 513151.88679245283\n",
      "BOOKS_AND_REFERENCE : 8504745.97826087\n",
      "BUSINESS : 1602958.308080808\n",
      "COMICS : 880440.625\n",
      "COMMUNICATION : 36106662.328413285\n",
      "DATING : 764959.4610389611\n",
      "EDUCATION : 1844897.9591836734\n",
      "ENTERTAINMENT : 12346329.11392405\n",
      "EVENTS : 232885.83333333334\n",
      "FINANCE : 1348224.9426751593\n",
      "FOOD_AND_DRINK : 1974937.1386138613\n",
      "HEALTH_AND_FITNESS : 4263642.1749049425\n",
      "HOUSE_AND_HOME : 1391211.1911764706\n",
      "LIBRARIES_AND_DEMO : 674917.2368421053\n",
      "LIFESTYLE : 1375297.3058103975\n",
      "GAME : 15434835.816831684\n",
      "FAMILY : 3633707.342820999\n",
      "MEDICAL : 119216.81045751635\n",
      "SOCIAL : 24441088.17857143\n",
      "SHOPPING : 7307823.2010582015\n",
      "PHOTOGRAPHY : 18099283.85375494\n",
      "SPORTS : 3647640.208029197\n",
      "TRAVEL_AND_LOCAL : 14487541.68041237\n",
      "TOOLS : 11084333.292649098\n",
      "PERSONALIZATION : 5027006.791366907\n",
      "PRODUCTIVITY : 16972497.946107786\n",
      "PARENTING : 544745.6363636364\n",
      "WEATHER : 5219216.7164179105\n",
      "VIDEO_PLAYERS : 25234606.216216218\n",
      "NEWS_AND_MAGAZINES : 10006311.10638298\n",
      "MAPS_AND_NAVIGATION : 4304432.280701755\n"
     ]
    }
   ],
   "source": [
    "loop_ft_android = freq_table(final_android,1)\n",
    "\n",
    "for category in loop_ft_android:\n",
    "    total = 0\n",
    "    len_category = 0\n",
    "    for row in final_android:\n",
    "        category_app = row[1]\n",
    "        if category_app == category:\n",
    "            n_installs = row[5]\n",
    "            n_installs = n_installs.replace('+','')\n",
    "            n_installs = n_installs.replace(',','')\n",
    "            n_installs = float(n_installs)\n",
    "            total += n_installs\n",
    "            len_category += 1\n",
    "            avg_category = total / len_category\n",
    "    print(category, ':', avg_category)"
   ]
  },
  {
   "cell_type": "code",
   "execution_count": 30,
   "metadata": {},
   "outputs": [
    {
     "name": "stdout",
     "output_type": "stream",
     "text": [
      "Step Counter - Calorie Counter : 500,000+\n",
      "Lose Belly Fat in 30 Days - Flat Stomach : 5,000,000+\n",
      "Pedometer - Step Counter Free & Calorie Burner : 1,000,000+\n",
      "Six Pack in 30 Days - Abs Workout : 10,000,000+\n",
      "Lose Weight in 30 Days : 10,000,000+\n",
      "Pedometer : 10,000,000+\n",
      "LG Health : 10,000,000+\n",
      "Step Counter - Pedometer Free & Calorie Counter : 10,000,000+\n",
      "Pedometer, Step Counter & Weight Loss Tracker App : 10,000,000+\n",
      "Sportractive GPS Running Cycling Distance Tracker : 1,000,000+\n",
      "30 Day Fitness Challenge - Workout at Home : 10,000,000+\n",
      "Home Workout for Men - Bodybuilding : 1,000,000+\n",
      "Fat Burning Workout - Home Weight lose : 100,000+\n",
      "Buttocks and Abdomen : 500,000+\n",
      "Walking for Weight Loss - Walk Tracker : 100,000+\n",
      "Running & Jogging : 500,000+\n",
      "Sleep Sounds : 1,000,000+\n",
      "Fitbit : 10,000,000+\n",
      "Lose Belly Fat-Home Abs Fitness Workout : 50,000+\n",
      "Cycling - Bike Tracker : 500,000+\n",
      "Abs Training-Burn belly fat : 100,000+\n",
      "Calorie Counter - EasyFit free : 1,000,000+\n",
      "Aunjai i lert u : 500,000+\n",
      "BetterMe: Weight Loss Workouts : 5,000,000+\n",
      "Bike Computer - GPS Cycling Tracker : 1,000,000+\n",
      "Running Distance Tracker + : 1,000,000+\n",
      "The TK-App - everything under control : 100,000+\n",
      "Runkeeper - GPS Track Run Walk : 10,000,000+\n",
      "Walking: Pedometer diet : 1,000,000+\n",
      "Recipes for hair and face tried : 500,000+\n",
      "Abs Workout - 30 Days Fitness App for Six Pack Abs : 100,000+\n",
      "8fit Workouts & Meal Planner : 10,000,000+\n",
      "Keep Trainer - Workout Trainer & Fitness Coach : 1,000,000+\n",
      "Couch to 10K Running Trainer : 500,000+\n",
      "Home workouts - fat burning, abs, legs, arms,chest : 1,000,000+\n",
      "Running Weight Loss Walking Jogging Hiking FITAPP : 1,000,000+\n",
      "Strava Training: Track Running, Cycling & Swimming : 10,000,000+\n",
      "Workout Trainer: fitness coach : 10,000,000+\n",
      "Fabulous: Motivate Me! Meditate, Relax, Sleep : 5,000,000+\n",
      "StrongLifts 5x5 Workout Gym Log & Personal Trainer : 1,000,000+\n",
      "Run with Map My Run : 5,000,000+\n",
      "7 Minute Workout : 10,000,000+\n",
      "Workout Tracker & Gym Trainer - Fitness Log Book : 500,000+\n",
      "Freeletics: Personal Trainer & Fitness Workouts : 10,000,000+\n",
      "Fitbit Coach : 1,000,000+\n",
      "JEFIT Workout Tracker, Weight Lifting, Gym Log App : 5,000,000+\n",
      "Map My Ride GPS Cycling Riding : 1,000,000+\n",
      "Daily Workouts - Exercise Fitness Routine Trainer : 10,000,000+\n",
      "Google Fit - Fitness Tracking : 10,000,000+\n",
      "Weight Loss Running by Verv : 1,000,000+\n",
      "Sworkit: Workouts & Fitness Plans : 5,000,000+\n",
      "Map My Fitness Workout Trainer : 1,000,000+\n",
      "Sports Tracker Running Cycling : 5,000,000+\n",
      "Seven - 7 Minute Workout Training Challenge : 1,000,000+\n",
      "Daily Yoga - Yoga Fitness Plans : 5,000,000+\n",
      "Relax Meditation: Sleep with Sleep Sounds : 1,000,000+\n",
      "Free Meditation - Take a Break : 100,000+\n",
      "Meditate OM : 1,000,000+\n",
      "Yoga - Track Yoga : 500,000+\n",
      "My Chakra Meditation : 500,000+\n",
      "Relax with Andrew Johnson Lite : 100,000+\n",
      "Meditation Music - Relax, Yoga : 1,000,000+\n",
      "Down Dog: Great Yoga Anywhere : 500,000+\n",
      "21-Day Meditation Experience : 100,000+\n",
      "My Chakra Meditation 2 : 100,000+\n",
      "Simply Yoga - Fitness Trainer for Workouts & Poses : 1,000,000+\n",
      "Relax Melodies: Sleep Sounds : 5,000,000+\n",
      "Simple Habit Meditation : 500,000+\n",
      "Headspace: Meditation & Mindfulness : 10,000,000+\n",
      "Yoga Studio: Mind & Body : 100,000+\n",
      "Pregnancy & Baby Tracker : 1,000,000+\n",
      "My Cycles Period and Ovulation : 1,000,000+\n",
      "The Bump Pregnancy Tracker : 1,000,000+\n",
      "Best Ovulation Tracker Fertility Calendar App Glow : 1,000,000+\n",
      "Eve Period Tracker - Love, Sex & Relationships App : 1,000,000+\n",
      "Fertility Friend Ovulation App : 1,000,000+\n",
      "Pregnancy Tracker : 500,000+\n",
      "Period Tracker : 10,000,000+\n",
      "Spot On Period, Birth Control, & Cycle Tracker : 500,000+\n",
      "OvuView: Ovulation and Fertility : 1,000,000+\n",
      "Period Tracker - Period Calendar Ovulation Tracker : 100,000,000+\n",
      "Period Tracker Clue: Period and Ovulation Tracker : 10,000,000+\n",
      "Calorie Counter - MyFitnessPal : 50,000,000+\n",
      "WomanLog Calendar : 5,000,000+\n",
      "Map My Hike GPS Hiking : 500,000+\n",
      "ViewRanger - Hike, Ride or Walk : 1,000,000+\n",
      "Runtastic Mountain Bike GPS Tracker : 1,000,000+\n",
      "AllTrails: Hiking, Running & Mountain Bike Trails : 1,000,000+\n",
      "Water Drink Reminder : 10,000,000+\n",
      "Zombies, Run! 5k Training (Free) : 50,000+\n",
      "Tracks : 50,000+\n",
      "YAZIO Calorie Counter, Nutrition Diary & Diet Plan : 5,000,000+\n",
      "Technutri - calorie counter, diet and carb tracker : 5,000,000+\n",
      "Couch to 5K by RunDouble : 1,000,000+\n",
      "Fooducate Healthy Weight Loss & Calorie Counter : 1,000,000+\n",
      "Weight Watchers Mobile : 5,000,000+\n",
      "Walk with Map My Walk : 5,000,000+\n",
      "My Diet Coach - Weight Loss Motivation & Tracker : 10,000,000+\n",
      "Endomondo - Running & Walking : 10,000,000+\n",
      "Nike+ Run Club : 10,000,000+\n",
      "Lose It! - Calorie Counter : 10,000,000+\n",
      "Runtastic Running App & Mile Tracker : 10,000,000+\n",
      "Calorie Counter - MyNetDiary : 1,000,000+\n",
      "10 Best Foods for You : 500,000+\n",
      "MyPlate Calorie Tracker : 1,000,000+\n",
      "My Diet Diary Calorie Counter : 1,000,000+\n",
      "Calorie Counter - Macros : 100,000+\n",
      "Weight Loss Tracker - RecStyle : 1,000,000+\n",
      "Lark - 24/7 Health Coach : 100,000+\n",
      "MealLogger-Photo Food Journal : 50,000+\n",
      "Health and Nutrition Guide : 500,000+\n",
      "Calorie Counter & Diet Tracker : 1,000,000+\n",
      "Food Calorie Calculator : 100,000+\n",
      "Monitor Your Weight : 5,000,000+\n",
      "Calorie Counter by FatSecret : 10,000,000+\n",
      "Eat Fit - Diet and Health Free : 100,000+\n",
      "Self Healing : 500,000+\n",
      "Happify : 100,000+\n",
      "Binaural Beats Therapy : 1,000,000+\n",
      "Pacifica - Stress & Anxiety : 500,000+\n",
      "Relaxing Sounds : 100,000+\n",
      "White Sound Pro : 500,000+\n",
      "Insight Timer - Free Meditation App : 1,000,000+\n",
      "Self-help Anxiety Management : 500,000+\n",
      "Brain Waves - Binaural Beats : 500,000+\n",
      "Prana Breath: Calm & Meditate : 1,000,000+\n",
      "7 Cups: Anxiety & Stress Chat : 500,000+\n",
      "Calm - Meditate, Sleep, Relax : 5,000,000+\n",
      "White Noise Lite : 1,000,000+\n",
      "Stop, Breathe & Think: Meditation & Mindfulness : 1,000,000+\n",
      "Oral-B App : 1,000,000+\n",
      "f.lux (preview, root-only) : 500,000+\n",
      "HPlus : 100,000+\n",
      "H Band 2.0 : 500,000+\n",
      "H-Connect : 5,000+\n",
      "H Band : 10,000+\n",
      "J - Style Pro : 10,000+\n",
      "K Health : 50,000+\n",
      "Vi Trainer : 5,000+\n",
      "30 Day Ab Challenge : 500,000+\n",
      "Ultimate Ab & Core Workouts : 1,000,000+\n",
      "Abs Workout - Burn Belly Fat with No Equipment : 10,000,000+\n",
      "6 Pack Promise - Ultimate Abs : 1,000,000+\n",
      "Abs, Core & Back Workout Challenge : 100,000+\n",
      "AB Mobile App : 100,000+\n",
      "Daily Ab Workout - Core & Abs Fitness Exercises : 10,000,000+\n",
      "Abs workout 7 minutes : 1,000,000+\n",
      "30 Day Ab Challenge FREE : 1,000,000+\n",
      "ABS Workout - Belly workout, 30 days AB : 100,000+\n",
      "7 minute abs workout - Daily Ab Workout : 100,000+\n",
      "5 Minute Ab Workouts : 50,000+\n",
      "30 Day AB Challenge - Lumowell : 10,000+\n",
      "Ab Workouts : 1,000,000+\n",
      "Ab Workouts - Ab Generator : 1,000+\n",
      "Abs workout - 21 Day Fitness Challenge : 1,000,000+\n",
      "Ladies' Ab Workout FREE : 1,000,000+\n",
      "30-Day Ab Challenge Tracker : 10,000+\n",
      "AF Hydro : 10,000+\n",
      "AF Nutrition - Integratori : 100+\n",
      "AH Connect (Adventist Health) : 1,000+\n",
      "be'ah : 10+\n",
      "We're Working Out - Al Kavadlo : 50,000+\n",
      "AQ Dentals : 10+\n",
      "Sleep as Android Gear Addon : 100,000+\n",
      "Sleep as Android Garmin Addon : 10,000+\n",
      "Samsung Health : 500,000,000+\n",
      "Runtastic Sleep Better: Sleep Cycle & Smart Alarm : 5,000,000+\n",
      "Twilight: Blue light filter : 5,000,000+\n",
      "MediBeat for AW - Android (1) : 500+\n",
      "Q7 SmartWatch : 10,000+\n",
      "AY Oakmont : 10+\n",
      "Cures A-Z : 100,000+\n",
      "BA Accesible : 1,000+\n",
      "Fitness Dance for Zum.ba Workout Exercise : 50,000+\n",
      "BD Provider App : 5,000+\n",
      "BF Scale Health Fitness Tool : 1,000+\n",
      "Women\"s Health Tips(Breast,Face,Body,weight lose) : 1,000,000+\n",
      "Revita.bg : 10+\n",
      "Blood Glucose Tracker : 100,000+\n",
      "BH by Kinomap : 10,000+\n",
      "BH - Fitness & Nutrition : 1+\n",
      "FitConsole : 50,000+\n",
      "Run on Earth : 50,000+\n",
      "Treadmill Workouts Free (P) : 1,000+\n",
      "The Daily BJ : 500+\n",
      "Hungry Girl Diet Bk. Companion : 1,000+\n",
      "BL ONLINE PERSONAL TRAINING : 5+\n",
      "Poop Tracker - Toilet Log : 10,000+\n",
      "BM Pharmacy : 1,000+\n",
      "BM Physiotherapy Clinic : 100+\n",
      "My BP Lab : 10,000+\n",
      "BP Tracker : 1,000+\n",
      "MI-BP : 50+\n",
      "Deep Breathe BP : 1,000+\n",
      "BP Toolbox : 1,000+\n",
      "Blood pressure : 500,000+\n",
      "Bacterial Vaginosis : 100+\n",
      "Bacteria Vaginosis : 1,000,000+\n",
      "Bacterial vaginosis Treatment - Sexual disease : 500+\n",
      "Home Remedies for Bacterial Infections : 50+\n",
      "Benefit Extras Mobile App : 1,000+\n",
      "Kick Axe Bx : 1+\n",
      "CB Martial Arts : 10+\n",
      "CB NFC Pendant : 50+\n",
      "CB Fit : 10+\n",
      "C B Patel Health Club : 100+\n",
      "CF SPOT : 100+\n",
      "CF Talenti : 100+\n",
      "Thrive CF : 100+\n",
      "CF Townsville : 100+\n",
      "CF Etowah : 100+\n",
      "Cystic Fibrosis Symptoms, Doctors & Treatments : 100+\n",
      "CF Themis : 100+\n",
      "CF Riga : 100+\n",
      "Casa CF : 500+\n",
      "CampGladiator : 50,000+\n",
      "CG Fit Scale : 1,000+\n",
      "Pharmacie de Garde CI et Prix : 100,000+\n",
      "CJ Fitness : 10,000+\n",
      "The CJ Rubric : 100+\n",
      "CK SKILLZ : 50+\n",
      "CK Life : 100+\n"
     ]
    },
    {
     "name": "stdout",
     "output_type": "stream",
     "text": [
      "CK Pharmacies : 100+\n",
      "CK Active : 10+\n",
      "CL-Customer Care : 5+\n",
      "CL Strength : 50+\n",
      "The ClubHouse CR : 100+\n",
      "Evolution Marketing CR : 1,000+\n",
      "I AM C.T. : 1,000+\n",
      "Cy's Elma Pharmacy : 10+\n",
      "DG Fitness : 100+\n",
      "DG Xplained : 100+\n",
      "Stop Smoking - EasyQuit free : 500,000+\n",
      "Dr. Muscle : 10,000+\n",
      "DS Companion : 50+\n",
      "Eat Right Diet (by Dt Shreya's Family Diet Clinic) : 10+\n",
      "Dt. Jyothi Srinivas : 100+\n",
      "DT NO.I : 1,000+\n",
      "Bodyworks DW : 10+\n",
      "Cloud DX Connected Health : 100+\n",
      "DY Fitness : 10+\n",
      "PHARMAGUIDE (DZ) : 5,000+\n",
      "DEM DZ : 100+\n",
      "Eb & flow Yoga Studio : 10+\n",
      "EF Coach : 500+\n",
      "EF Academy : 50+\n",
      "EO App. SelfCompassion to you : 100+\n",
      "Nike Training Club - Workouts & Fitness Plans : 10,000,000+\n",
      "Ideal Weight, BMI Calculator : 5,000,000+\n",
      "Fitness & Bodybuilding : 5,000,000+\n",
      "CALIOPE EU: Air Quality : 1,000+\n",
      "Home Workout - No Equipment : 10,000,000+\n",
      "EW MOTION THERAPY : 10+\n",
      "SCI-Ex : 1,000+\n",
      "X your Ex - Break Up Treatment : 5,000+\n",
      "Dream EZ : 10,000+\n",
      "FD Fitness : 50+\n",
      "L!FE Premium Training : 100+\n",
      "Santa Fe Thrive : 50+\n",
      "Burn Your Fat With Me! FG : 1,000,000+\n",
      "FH Calculator : 500+\n",
      "Restaurant Inspections - FL : 10,000+\n",
      "Florida Blue : 100,000+\n"
     ]
    }
   ],
   "source": [
    "for row in final_android:\n",
    "    if row[1] == 'HEALTH_AND_FITNESS':\n",
    "        print(row[0], ':', row[5])"
   ]
  }
 ],
 "metadata": {
  "kernelspec": {
   "display_name": "Python 3",
   "language": "python",
   "name": "python3"
  },
  "language_info": {
   "codemirror_mode": {
    "name": "ipython",
    "version": 3
   },
   "file_extension": ".py",
   "mimetype": "text/x-python",
   "name": "python",
   "nbconvert_exporter": "python",
   "pygments_lexer": "ipython3",
   "version": "3.7.4"
  }
 },
 "nbformat": 4,
 "nbformat_minor": 2
}
