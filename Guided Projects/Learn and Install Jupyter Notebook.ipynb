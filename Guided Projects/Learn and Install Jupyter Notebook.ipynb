{
 "cells": [
  {
   "cell_type": "markdown",
   "metadata": {},
   "source": [
    "In the code cell below, we:\n",
    "\n",
    "- Open the AppleStore.csv file using the open() function, and assign the output to a variable named opened_file\n",
    "- Import the reader() function from the csv module\n",
    "- Read in the opened file using the reader() function, and assign the output to a variable named read_file\n",
    "- Transform the read-in file to a list of lists using list() and save it to a variable named apps_data\n",
    "- Display the header row and the first three rows of the data set."
   ]
  },
  {
   "cell_type": "code",
   "execution_count": 4,
   "metadata": {},
   "outputs": [
    {
     "data": {
      "text/plain": [
       "[['',\n",
       "  'id',\n",
       "  'track_name',\n",
       "  'size_bytes',\n",
       "  'currency',\n",
       "  'price',\n",
       "  'rating_count_tot',\n",
       "  'rating_count_ver',\n",
       "  'user_rating',\n",
       "  'user_rating_ver',\n",
       "  'ver',\n",
       "  'cont_rating',\n",
       "  'prime_genre',\n",
       "  'sup_devices.num',\n",
       "  'ipadSc_urls.num',\n",
       "  'lang.num',\n",
       "  'vpp_lic'],\n",
       " ['1',\n",
       "  '281656475',\n",
       "  'PAC-MAN Premium',\n",
       "  '100788224',\n",
       "  'USD',\n",
       "  '3.99',\n",
       "  '21292',\n",
       "  '26',\n",
       "  '4',\n",
       "  '4.5',\n",
       "  '6.3.5',\n",
       "  '4+',\n",
       "  'Games',\n",
       "  '38',\n",
       "  '5',\n",
       "  '10',\n",
       "  '1'],\n",
       " ['2',\n",
       "  '281796108',\n",
       "  'Evernote - stay organized',\n",
       "  '158578688',\n",
       "  'USD',\n",
       "  '0',\n",
       "  '161065',\n",
       "  '26',\n",
       "  '4',\n",
       "  '3.5',\n",
       "  '8.2.2',\n",
       "  '4+',\n",
       "  'Productivity',\n",
       "  '37',\n",
       "  '5',\n",
       "  '23',\n",
       "  '1'],\n",
       " ['3',\n",
       "  '281940292',\n",
       "  'WeatherBug - Local Weather, Radar, Maps, Alerts',\n",
       "  '100524032',\n",
       "  'USD',\n",
       "  '0',\n",
       "  '188583',\n",
       "  '2822',\n",
       "  '3.5',\n",
       "  '4.5',\n",
       "  '5.0.0',\n",
       "  '4+',\n",
       "  'Weather',\n",
       "  '37',\n",
       "  '5',\n",
       "  '3',\n",
       "  '1']]"
      ]
     },
     "execution_count": 4,
     "metadata": {},
     "output_type": "execute_result"
    }
   ],
   "source": [
    "opened_file = open(r\"C:\\Users\\WWCOLL\\Downloads\\AppleStore.csv\", encoding = \"utf8\")\n",
    "from csv import reader\n",
    "read_file = reader(opened_file)\n",
    "apps_data = list(read_file)\n",
    "\n",
    "apps_data[:4]"
   ]
  },
  {
   "cell_type": "markdown",
   "metadata": {},
   "source": [
    "The data set above contains information about more than 7000 Apple iOS mobile apps. The data was collected from the iTunes Search API by data engineer [Ramanathan Perumal](https://www.kaggle.com/ramamet4). Documentation for the data set can be found at [this page](https://www.kaggle.com/ramamet4/app-store-apple-data-set-10k-apps), where you'll also be able to download the data set.\n",
    "\n",
    "This is a table explaining what each column in the data set describes:\n",
    "\n",
    "|Column name\t|Description|\n",
    "|:---------------|:-----------|\n",
    "|\"id\"|\tApp ID|\n",
    "|\"track_name\"|\tApp Name|\n",
    "|\"size_bytes\"|\tSize (in Bytes)|\n",
    "|\"currency\"|\tCurrency Type|\n",
    "|\"price\"|\tPrice amount|\n",
    "|\"rating_count_tot\"|\tUser Rating counts (for all version)|\n",
    "|\"rating_count_ver\"|\tUser Rating counts (for current version)|\n",
    "|\"user_rating\"|\tAverage User Rating value (for all version)|\n",
    "|\"user_rating_ver\"|\tAverage User Rating value (for current version)|\n",
    "|\"ver\"|\tLatest version code|\n",
    "|\"cont_rating\"|\tContent Rating|\n",
    "|\"prime_genre\"|\tPrimary Genre|\n",
    "|\"sup_devices.num\"|\tNumber of supporting devices|\n",
    "|\"ipadSc_urls.num\"|\tNumber of screenshots showed for display|\n",
    "|\"lang.num\"|\tNumber of supported languages|\n",
    "|\"vpp_lic\"|\tVpp Device Based Licensing Enabled|"
   ]
  }
 ],
 "metadata": {
  "kernelspec": {
   "display_name": "Python 3",
   "language": "python",
   "name": "python3"
  },
  "language_info": {
   "codemirror_mode": {
    "name": "ipython",
    "version": 3
   },
   "file_extension": ".py",
   "mimetype": "text/x-python",
   "name": "python",
   "nbconvert_exporter": "python",
   "pygments_lexer": "ipython3",
   "version": "3.7.4"
  }
 },
 "nbformat": 4,
 "nbformat_minor": 2
}
